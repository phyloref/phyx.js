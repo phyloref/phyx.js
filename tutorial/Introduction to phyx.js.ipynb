{
 "cells": [
  {
   "cell_type": "markdown",
   "id": "fa9ff6c8",
   "metadata": {},
   "source": [
    "# Introduction to phyx.js\n",
    "\n",
    "This tutorial provides an introduction to the phyx.js library, and shows you how it can be used to interpret [phyloreferences](https://www.phyloref.org/) in Phyx files and convert them into OWL for reasoning."
   ]
  },
  {
   "cell_type": "markdown",
   "id": "9566c1fb",
   "metadata": {},
   "source": [
    "## About this notebook\n",
    "\n",
    "This is a [Jupyter Notebook](https://jupyter.org/). We recommend installing [Jupyterlab via Homebrew on Mac](https://formulae.brew.sh/formula/jupyterlab#default), but [other installation options are available](https://jupyter.org/install). Once Jupyter Notebook is set up, you should be able to open this notebook for editing by running `jupyter notebook Introduction\\ to\\ phyx.js.ipynb` from the command line.\n",
    "\n",
    "We use [pixiedust_node](https://github.com/pixiedust/pixiedust_node) to add support for Node.js to Jupyter Notebook. You will need to execute the two following cells to set this up. Once it is set up, every cell in this file starting with `%%node` should execute in Node.js."
   ]
  },
  {
   "cell_type": "code",
   "execution_count": 4,
   "id": "9855ad30",
   "metadata": {},
   "outputs": [
    {
     "name": "stdout",
     "output_type": "stream",
     "text": [
      "Requirement already satisfied: pixiedust_node in /usr/local/Cellar/jupyterlab/3.0.14/libexec/lib/python3.9/site-packages (0.2.5)\n",
      "Requirement already satisfied: pixiedust in /usr/local/Cellar/jupyterlab/3.0.14/libexec/lib/python3.9/site-packages (from pixiedust_node) (1.1.19)\n",
      "Requirement already satisfied: pandas in /usr/local/Cellar/jupyterlab/3.0.14/libexec/lib/python3.9/site-packages (from pixiedust_node) (1.2.4)\n",
      "Requirement already satisfied: ipython in /usr/local/Cellar/jupyterlab/3.0.14/libexec/lib/python3.9/site-packages (from pixiedust_node) (7.22.0)\n",
      "Requirement already satisfied: setuptools>=18.5 in /usr/local/Cellar/jupyterlab/3.0.14/libexec/lib/python3.9/site-packages (from ipython->pixiedust_node) (54.2.0)\n",
      "Requirement already satisfied: jedi>=0.16 in /usr/local/Cellar/jupyterlab/3.0.14/libexec/lib/python3.9/site-packages (from ipython->pixiedust_node) (0.18.0)\n",
      "Requirement already satisfied: decorator in /usr/local/Cellar/jupyterlab/3.0.14/libexec/lib/python3.9/site-packages (from ipython->pixiedust_node) (5.0.6)\n",
      "Requirement already satisfied: pickleshare in /usr/local/Cellar/jupyterlab/3.0.14/libexec/lib/python3.9/site-packages (from ipython->pixiedust_node) (0.7.5)\n",
      "Requirement already satisfied: traitlets>=4.2 in /usr/local/Cellar/jupyterlab/3.0.14/libexec/lib/python3.9/site-packages (from ipython->pixiedust_node) (5.0.5)\n",
      "Requirement already satisfied: prompt_toolkit!=3.0.0,!=3.0.1,<3.1.0,>=2.0.0 in /usr/local/Cellar/jupyterlab/3.0.14/libexec/lib/python3.9/site-packages (from ipython->pixiedust_node) (3.0.18)\n",
      "Requirement already satisfied: pygments in /usr/local/Cellar/jupyterlab/3.0.14/libexec/lib/python3.9/site-packages (from ipython->pixiedust_node) (2.8.1)\n",
      "Requirement already satisfied: backcall in /usr/local/Cellar/jupyterlab/3.0.14/libexec/lib/python3.9/site-packages (from ipython->pixiedust_node) (0.2.0)\n",
      "Requirement already satisfied: appnope in /usr/local/Cellar/jupyterlab/3.0.14/libexec/lib/python3.9/site-packages (from ipython->pixiedust_node) (0.1.2)\n",
      "Requirement already satisfied: pexpect>4.3 in /usr/local/Cellar/jupyterlab/3.0.14/libexec/lib/python3.9/site-packages (from ipython->pixiedust_node) (4.8.0)\n",
      "Requirement already satisfied: parso<0.9.0,>=0.8.0 in /usr/local/Cellar/jupyterlab/3.0.14/libexec/lib/python3.9/site-packages (from jedi>=0.16->ipython->pixiedust_node) (0.8.2)\n",
      "Requirement already satisfied: ptyprocess>=0.5 in /usr/local/Cellar/jupyterlab/3.0.14/libexec/lib/python3.9/site-packages (from pexpect>4.3->ipython->pixiedust_node) (0.7.0)\n",
      "Requirement already satisfied: wcwidth in /usr/local/Cellar/jupyterlab/3.0.14/libexec/lib/python3.9/site-packages (from prompt_toolkit!=3.0.0,!=3.0.1,<3.1.0,>=2.0.0->ipython->pixiedust_node) (0.2.5)\n",
      "Requirement already satisfied: ipython-genutils in /usr/local/Cellar/jupyterlab/3.0.14/libexec/lib/python3.9/site-packages (from traitlets>=4.2->ipython->pixiedust_node) (0.2.0)\n",
      "Requirement already satisfied: pytz>=2017.3 in /usr/local/Cellar/jupyterlab/3.0.14/libexec/lib/python3.9/site-packages (from pandas->pixiedust_node) (2021.1)\n",
      "Requirement already satisfied: python-dateutil>=2.7.3 in /usr/local/Cellar/jupyterlab/3.0.14/libexec/lib/python3.9/site-packages (from pandas->pixiedust_node) (2.8.1)\n",
      "Requirement already satisfied: numpy>=1.16.5 in /usr/local/Cellar/jupyterlab/3.0.14/libexec/lib/python3.9/site-packages (from pandas->pixiedust_node) (1.20.2)\n",
      "Requirement already satisfied: six>=1.5 in /usr/local/Cellar/jupyterlab/3.0.14/libexec/lib/python3.9/site-packages (from python-dateutil>=2.7.3->pandas->pixiedust_node) (1.15.0)\n",
      "Requirement already satisfied: geojson in /usr/local/Cellar/jupyterlab/3.0.14/libexec/lib/python3.9/site-packages (from pixiedust->pixiedust_node) (2.5.0)\n",
      "Requirement already satisfied: markdown in /usr/local/Cellar/jupyterlab/3.0.14/libexec/lib/python3.9/site-packages (from pixiedust->pixiedust_node) (3.3.4)\n",
      "Requirement already satisfied: matplotlib in /usr/local/Cellar/jupyterlab/3.0.14/libexec/lib/python3.9/site-packages (from pixiedust->pixiedust_node) (3.4.1)\n",
      "Requirement already satisfied: astunparse in /usr/local/Cellar/jupyterlab/3.0.14/libexec/lib/python3.9/site-packages (from pixiedust->pixiedust_node) (1.6.3)\n",
      "Requirement already satisfied: requests in /usr/local/Cellar/jupyterlab/3.0.14/libexec/lib/python3.9/site-packages (from pixiedust->pixiedust_node) (2.25.1)\n",
      "Requirement already satisfied: colour in /usr/local/Cellar/jupyterlab/3.0.14/libexec/lib/python3.9/site-packages (from pixiedust->pixiedust_node) (0.1.5)\n",
      "Requirement already satisfied: wheel<1.0,>=0.23.0 in /usr/local/Cellar/jupyterlab/3.0.14/libexec/lib/python3.9/site-packages (from astunparse->pixiedust->pixiedust_node) (0.36.2)\n",
      "Requirement already satisfied: pillow>=6.2.0 in /usr/local/Cellar/jupyterlab/3.0.14/libexec/lib/python3.9/site-packages (from matplotlib->pixiedust->pixiedust_node) (8.2.0)\n",
      "Requirement already satisfied: pyparsing>=2.2.1 in /usr/local/Cellar/jupyterlab/3.0.14/libexec/lib/python3.9/site-packages (from matplotlib->pixiedust->pixiedust_node) (2.4.7)\n",
      "Requirement already satisfied: kiwisolver>=1.0.1 in /usr/local/Cellar/jupyterlab/3.0.14/libexec/lib/python3.9/site-packages (from matplotlib->pixiedust->pixiedust_node) (1.3.1)\n",
      "Requirement already satisfied: cycler>=0.10 in /usr/local/Cellar/jupyterlab/3.0.14/libexec/lib/python3.9/site-packages (from matplotlib->pixiedust->pixiedust_node) (0.10.0)\n",
      "Requirement already satisfied: urllib3<1.27,>=1.21.1 in /usr/local/Cellar/jupyterlab/3.0.14/libexec/lib/python3.9/site-packages (from requests->pixiedust->pixiedust_node) (1.26.4)\n",
      "Requirement already satisfied: certifi>=2017.4.17 in /usr/local/Cellar/jupyterlab/3.0.14/libexec/lib/python3.9/site-packages (from requests->pixiedust->pixiedust_node) (2020.12.5)\n",
      "Requirement already satisfied: chardet<5,>=3.0.2 in /usr/local/Cellar/jupyterlab/3.0.14/libexec/lib/python3.9/site-packages (from requests->pixiedust->pixiedust_node) (4.0.0)\n",
      "Requirement already satisfied: idna<3,>=2.5 in /usr/local/Cellar/jupyterlab/3.0.14/libexec/lib/python3.9/site-packages (from requests->pixiedust->pixiedust_node) (2.10)\n",
      "\u001b[33mWARNING: You are using pip version 21.0.1; however, version 21.1 is available.\n",
      "You should consider upgrading via the '/usr/local/Cellar/jupyterlab/3.0.14/libexec/bin/python3.9 -m pip install --upgrade pip' command.\u001b[0m\n"
     ]
    }
   ],
   "source": [
    "import sys\n",
    "!{sys.executable} -m pip install pixiedust_node"
   ]
  },
  {
   "cell_type": "code",
   "execution_count": 4,
   "id": "48ab7e9d",
   "metadata": {},
   "outputs": [
    {
     "name": "stdout",
     "output_type": "stream",
     "text": [
      "Pixiedust database opened successfully\n",
      "Table VERSION_TRACKER created successfully\n",
      "Table METRICS_TRACKER created successfully\n",
      "\n",
      "Share anonymous install statistics? (opt-out instructions)\n",
      "\n",
      "PixieDust will record metadata on its environment the next time the package is installed or updated. The data is anonymized and aggregated to help plan for future releases, and records only the following values:\n",
      "\n",
      "{\n",
      "   \"data_sent\": currentDate,\n",
      "   \"runtime\": \"python\",\n",
      "   \"application_version\": currentPixiedustVersion,\n",
      "   \"space_id\": nonIdentifyingUniqueId,\n",
      "   \"config\": {\n",
      "       \"repository_id\": \"https://github.com/ibm-watson-data-lab/pixiedust\",\n",
      "       \"target_runtimes\": [\"Data Science Experience\"],\n",
      "       \"event_id\": \"web\",\n",
      "       \"event_organizer\": \"dev-journeys\"\n",
      "   }\n",
      "}\n",
      "You can opt out by calling pixiedust.optOut() in a new cell.\n"
     ]
    },
    {
     "data": {
      "text/html": [
       "\n",
       "        <div style=\"margin:10px\">\n",
       "            <a href=\"https://github.com/ibm-watson-data-lab/pixiedust\" target=\"_new\">\n",
       "                <img src=\"https://github.com/ibm-watson-data-lab/pixiedust/raw/master/docs/_static/pd_icon32.png\" style=\"float:left;margin-right:10px\"/>\n",
       "            </a>\n",
       "            <span>Pixiedust version 1.1.19</span>\n",
       "        </div>\n",
       "        "
      ],
      "text/plain": [
       "<IPython.core.display.HTML object>"
      ]
     },
     "metadata": {},
     "output_type": "display_data"
    },
    {
     "name": "stdout",
     "output_type": "stream",
     "text": [
      "\u001b[31mPixiedust runtime updated. Please restart kernel\u001b[0m\n",
      "Table USER_PREFERENCES created successfully\n",
      "Table service_connections created successfully\n"
     ]
    },
    {
     "data": {
      "text/html": [
       "\n",
       "            <div style=\"margin:10px\"> \n",
       "            <a href=\"https://github.com/ibm-cds-labs/pixiedust_node\" target=\"_new\"> \n",
       "            <img src=\"https://github.com/ibm-cds-labs/pixiedust_node/raw/master/docs/_images/pdn_icon32.png\" style=\"float:left;margin-right:10px\"/> \n",
       "            </a> \n",
       "            <span>Pixiedust Node.js</span> \n",
       "            </div> \n"
      ],
      "text/plain": [
       "<IPython.core.display.HTML object>"
      ]
     },
     "metadata": {},
     "output_type": "display_data"
    },
    {
     "name": "stdout",
     "output_type": "stream",
     "text": [
      "pixiedust_node 0.2.5 started. Cells starting '%%node' may contain Node.js code.\n"
     ]
    }
   ],
   "source": [
    "# We use pixie\n",
    "\n",
    "import pixiedust_node"
   ]
  },
  {
   "cell_type": "markdown",
   "id": "da9b5ab0",
   "metadata": {},
   "source": [
    "## Components in phyx.js\n",
    "\n",
    "phyx.js is designed as a series of wrappers that wrap various components of a Phyx document, from citations all the way up to an entire Phyx document. These wrappers provide consistent interfaces to these components and should provide descriptive error messages if the components are incorrectly written."
   ]
  },
  {
   "cell_type": "markdown",
   "id": "4d9133f4",
   "metadata": {},
   "source": [
    "## Navigating a Phyx document using phyx.js"
   ]
  },
  {
   "cell_type": "markdown",
   "id": "de6011f5",
   "metadata": {},
   "source": [
    "## Converting a Phyx document into OWL"
   ]
  },
  {
   "cell_type": "markdown",
   "id": "689cabf2",
   "metadata": {},
   "source": [
    "## JSON Schema for Phyx file validation"
   ]
  },
  {
   "cell_type": "code",
   "execution_count": null,
   "id": "621646a5",
   "metadata": {},
   "outputs": [],
   "source": []
  }
 ],
 "metadata": {
  "kernelspec": {
   "display_name": "Python 3",
   "language": "python",
   "name": "python3"
  },
  "language_info": {
   "codemirror_mode": {
    "name": "ipython",
    "version": 3
   },
   "file_extension": ".py",
   "mimetype": "text/x-python",
   "name": "python",
   "nbconvert_exporter": "python",
   "pygments_lexer": "ipython3",
   "version": "3.9.4"
  }
 },
 "nbformat": 4,
 "nbformat_minor": 5
}
