{
 "cells": [
  {
   "cell_type": "markdown",
   "id": "fa9ff6c8",
   "metadata": {},
   "source": [
    "# Introduction to phyx.js\n",
    "\n",
    "This tutorial provides an introduction to the phyx.js library, and shows you how it can be used to interpret [phyloreferences](https://www.phyloref.org/) in Phyx files and convert them into OWL for reasoning."
   ]
  },
  {
   "cell_type": "markdown",
   "id": "4d9133f4",
   "metadata": {},
   "source": [
    "## Navigating a Phyx document as a JSON file"
   ]
  },
  {
   "cell_type": "markdown",
   "id": "833a8c3d",
   "metadata": {},
   "source": [
    "Every Phyx document is a JSON document. You can read it as a JSON file, validate it against a JSON schema, count the number of phyloreferences and phylogenies, and find the clade definitions of each phyloreference.\n",
    "\n",
    "The following examples use the [Brochu 2003 example Phyx file](https://github.com/phyloref/phyx.js/blob/master/test/examples/correct/brochu_2003.json) to demonstrate this."
   ]
  },
  {
   "cell_type": "code",
   "execution_count": 2,
   "id": "ad7a440c",
   "metadata": {
    "scrolled": true
   },
   "outputs": [
    {
     "name": "stdout",
     "output_type": "stream",
     "text": [
      "{\n",
      "  \"@context\": \"../../../docs/context/development/phyx.json\",\n",
      "  \"doi\": \"10.5281/zenodo.4562685\",\n",
      "  \"source\": {\n",
      "    \"authors\": [\n",
      "      {\n",
      "        \"firstname\": \"Gaurav\",\n",
      "        \"lastname\": \"Vaidya\"\n",
      "   ...\n"
     ]
    }
   ],
   "source": [
    "// Note that we use `var` instead of `let` in this file. This is because identifiers \n",
    "// declared using `let` cannot be re-declared, which makes it impossible to re-run\n",
    "// code blocks in Jupyter Notebook.\n",
    "var fs = require('fs');\n",
    "\n",
    "// Start by reading in `brochu_2003.json`, a Phyx file, as a JSON file.\n",
    "var brochu2003 = JSON.parse(fs.readFileSync('../test/examples/correct/brochu_2003.json'));\n",
    "console.log(JSON.stringify(brochu2003, null, 2).substring(0, 200) + '...');"
   ]
  },
  {
   "cell_type": "markdown",
   "id": "fe818b36",
   "metadata": {},
   "source": [
    "The JSON structure of this file makes it easy to examine some aspects of it, such as by iterating through the phylogenies and phyloreferences."
   ]
  },
  {
   "cell_type": "code",
   "execution_count": 3,
   "id": "7c4be8d2",
   "metadata": {
    "scrolled": false
   },
   "outputs": [
    {
     "name": "stdout",
     "output_type": "stream",
     "text": [
      "- Phyloref 1. Alligatoridae:\n",
      "  - Internal specifier: undefined\n",
      "  - Internal specifier: Alligator mississippiensis\n",
      "\n",
      "- Phyloref 2. Alligatorinae:\n",
      "  - Internal specifier: undefined\n",
      "  - External specifier: Caiman crocodilus\n",
      "\n",
      "- Phyloref 3. Caimaninae:\n",
      "  - Internal specifier: undefined\n",
      "  - External specifier: undefined\n",
      "\n",
      "- Phyloref 4. Crocodyloidea:\n",
      "  - Internal specifier: undefined\n",
      "  - External specifier: Alligator mississippiensis\n",
      "  - External specifier: Gavialis gangeticus\n",
      "\n",
      "- Phyloref 5. Crocodylidae:\n",
      "  - Internal specifier: undefined\n",
      "  - Internal specifier: Osteolaemus tetraspis\n",
      "  - Internal specifier: Crocodylus niloticus\n",
      "\n",
      "- Phyloref 6. Diplocynodontinae:\n",
      "  - Internal specifier: undefined\n",
      "  - External specifier: undefined\n",
      "\n"
     ]
    }
   ],
   "source": [
    "// List all the clade definitions in a Phyx file.\n",
    "brochu2003.phylorefs.forEach((phyloref, index) => {\n",
    "    console.log(`- Phyloref ${index + 1}. ${phyloref.label}:`);\n",
    "    (phyloref.internalSpecifiers || []).forEach(specifier => {\n",
    "        console.log(`  - Internal specifier: ${specifier.label}`);\n",
    "    });\n",
    "    (phyloref.externalSpecifiers || []).forEach(specifier => {\n",
    "        console.log(`  - External specifier: ${specifier.label}`);\n",
    "    });\n",
    "    console.log();\n",
    "});"
   ]
  },
  {
   "cell_type": "markdown",
   "id": "c258a293",
   "metadata": {},
   "source": [
    "## Navigating a Phyx document using phyx.js\n",
    "\n",
    "phyx.js wrappers can simplify the process of accessing these components. It consists of a series of [wrappers](https://www.phyloref.org/phyx.js/identifiers.html#wrappers), each of which wraps part of the JSON file. For example, we can wrap each specifier using the [TaxonomicUnitWrapper](https://www.phyloref.org/phyx.js/class/src/wrappers/TaxonomicUnitWrapper.js~TaxonomicUnitWrapper.html).\n",
    "\n",
    "This provides a number of convenience methods: for example, `.internalSpecifiers` and `.externalSpecifiers` will always return lists, whether or not these are defined in the underlying phyloreference (in which case they return empty lists). There is also a `.specifiers` method that lists both internal and external specifiers.\n",
    "\n",
    "Furthermore, taxonomic units that are taxon concepts can be wrapped by a [TaxonConceptWrapper](https://www.phyloref.org/phyx.js/class/src/wrappers/TaxonConceptWrapper.js~TaxonConceptWrapper.html), which have methods for accessing the \"complete name\" (i.e. the monomial, binomial or trinomial name) and the nomenclatural code."
   ]
  },
  {
   "cell_type": "code",
   "execution_count": 4,
   "id": "cce4dd34",
   "metadata": {},
   "outputs": [
    {
     "name": "stdout",
     "output_type": "stream",
     "text": [
      "Alligatoridae\n",
      " - Internal: Caiman crocodilus (ICZN)\n",
      " - Internal: Alligator mississippiensis (ICZN)\n",
      "\n",
      "Alligatorinae\n",
      " - Internal: Alligator mississippiensis (ICZN)\n",
      " - External: Caiman crocodilus (ICZN)\n",
      "\n",
      "Caimaninae\n",
      " - Internal: Caiman crocodilus (ICZN)\n",
      " - External: Alligator mississippiensis (ICZN)\n",
      "\n",
      "Crocodyloidea\n",
      " - Internal: Crocodylus niloticus (ICZN)\n",
      " - External: Alligator mississippiensis (ICZN)\n",
      " - External: Gavialis gangeticus (ICZN)\n",
      "\n",
      "Crocodylidae\n",
      " - Internal: Tomistoma schlegelii (ICZN)\n",
      " - Internal: Osteolaemus tetraspis (ICZN)\n",
      " - Internal: Crocodylus niloticus (ICZN)\n",
      "\n",
      "Diplocynodontinae\n",
      " - Internal: Diplocynodon ratelii (ICZN)\n",
      " - External: Alligator mississippiensis (ICZN)\n",
      "\n"
     ]
    }
   ],
   "source": [
    "// Load the Phyx library.\n",
    "var phyx = require('..');\n",
    "\n",
    "// List all the phyloreferences with relevant information.\n",
    "brochu2003.phylorefs.forEach(phyloref => {\n",
    "    let wrappedPhyloref = new phyx.PhylorefWrapper(phyloref);\n",
    "    \n",
    "    console.log(wrappedPhyloref.label);\n",
    "    \n",
    "    wrappedPhyloref.internalSpecifiers.forEach(specifier => {\n",
    "        let wrappedSpecifier = new phyx.TaxonomicUnitWrapper(specifier);\n",
    "        if (wrappedSpecifier.taxonConcept) {\n",
    "            let wrappedTaxonConcept = new phyx.TaxonConceptWrapper(wrappedSpecifier.taxonConcept);\n",
    "            console.log(` - Internal: ${wrappedTaxonConcept.nameComplete} (${wrappedTaxonConcept.nomenCodeDetails.shortName})`);\n",
    "        } else {\n",
    "            console.log(` - Internal: ${wrappedSpecifier.label}`);\n",
    "        }\n",
    "    });\n",
    "    \n",
    "    wrappedPhyloref.externalSpecifiers.forEach(specifier => {\n",
    "        let wrappedSpecifier = new phyx.TaxonomicUnitWrapper(specifier);\n",
    "        if (wrappedSpecifier.taxonConcept) {\n",
    "            let wrappedTaxonConcept = new phyx.TaxonConceptWrapper(wrappedSpecifier.taxonConcept);\n",
    "            console.log(` - External: ${wrappedTaxonConcept.nameComplete} (${wrappedTaxonConcept.nomenCodeDetails.shortName})`);\n",
    "        } else {\n",
    "            console.log(` - External: ${wrappedSpecifier.label}`);\n",
    "        }\n",
    "    });\n",
    "    \n",
    "    console.log();\n",
    "});"
   ]
  },
  {
   "cell_type": "markdown",
   "id": "b953dbdb",
   "metadata": {},
   "source": [
    "## Accessing citations\n",
    "\n",
    "Another example of a wrapper that can be used for wrapping a part of a Phyx file is the [CitationWrapper](https://www.phyloref.org/phyx.js/class/src/wrappers/CitationWrapper.js~CitationWrapper.html). This can be used to wrap citations anywhere in the Phyx file to provide a full bibliographic citation for the citation."
   ]
  },
  {
   "cell_type": "code",
   "execution_count": 5,
   "id": "138d2268",
   "metadata": {},
   "outputs": [
    {
     "name": "stdout",
     "output_type": "stream",
     "text": [
      "The source of this Phyx file is: Gaurav Vaidya (2021) Digital representation of some of the clade definitions in Brochu 2003 in the Phyloreference Exchange (Phyx) format  doi: 10.5281/zenodo.4562685\n",
      "The source of the first phylogeny in this file is: Christopher A. Brochu (2003) Phylogenetic approaches toward crocodylian history Annual Review of Earth and Planetary Sciences 31:357--397  fig 1 doi: 10.1146/annurev.earth.31.100901.141308 URL: https://www.annualreviews.org/doi/10.1146/annurev.earth.31.100901.141308\n"
     ]
    }
   ],
   "source": [
    "var wrappedSourceCitation = new phyx.CitationWrapper(brochu2003.source);\n",
    "console.log(`The source of this Phyx file is: ${wrappedSourceCitation.toString()}`);\n",
    "\n",
    "var wrappedPhylogenyCitation = new phyx.CitationWrapper(brochu2003.phylogenies[0].source);\n",
    "console.log(`The source of the first phylogeny in this file is: ${wrappedPhylogenyCitation.toString()}`);"
   ]
  },
  {
   "cell_type": "markdown",
   "id": "de6011f5",
   "metadata": {},
   "source": [
    "## Converting a Phyx document into OWL"
   ]
  },
  {
   "cell_type": "markdown",
   "id": "8c68eb61",
   "metadata": {},
   "source": [
    "A Phyx document can be converted into OWL by using the `PhyxWrapper`."
   ]
  },
  {
   "cell_type": "code",
   "execution_count": 6,
   "id": "a3e4ac92",
   "metadata": {},
   "outputs": [
    {
     "name": "stdout",
     "output_type": "stream",
     "text": [
      "<http://example.org/test#phylogeny0> <http://ontology.phyloref.org/phyloref.owl#newick_expression> \"(Parasuchia,(rauisuchians,Aetosauria,(sphenosuchians,(protosuchians,(mesosuchians,(Hylaeochampsa,Aegyptosuchus,Stomatosuchus,(Allodaposuchus,('Gavialis gangeticus',(('Diplocynodon ratelii',('Alligator mississippiensis','Caiman crocodilus')Alligatoridae)Alligatoroidea,('Tomistoma schlegelii',('Osteolaemus tetraspis','Crocodylus niloticus')Crocodylinae)Crocodylidae)Brevirostres)Crocodylia))Eusuchia)Mesoeucrocodylia)Crocodyliformes)Crocodylomorpha))root;\" .\n",
      "<http://example.org/test#phylogeny0> <http://purl.obolibrary.org/obo/CDAO_0000148> <http://example.org/test#phylogeny0_node0> .\n",
      "<http://example.org/test#phylogeny0> <http://purl.org/dc/terms/source> _:b180 .\n",
      "<http://example.org/test#phylogeny0> <http://www.w3.org/1999/02/22-rdf-syntax-ns#type> <http://ontology.phyloref.org/phyloref.owl#ReferencePhylogenyEvidence> ....\n"
     ]
    }
   ],
   "source": [
    "// The example RDF file uses a local @context for development purposes.\n",
    "// We need to change it to use the standard @context.\n",
    "\n",
    "brochu2003['@context'] = 'https://www.phyloref.org/phyx.js/context/v1.0.0/phyx.json';\n",
    "\n",
    "nQuads = new phyx.PhyxWrapper(brochu2003).toRDF('http://example.org/test#');\n",
    "nQuads.then(nq => console.log(nq.slice(0, 926) + '...'));"
   ]
  },
  {
   "cell_type": "code",
   "execution_count": 7,
   "id": "14b3675a",
   "metadata": {},
   "outputs": [
    {
     "name": "stdout",
     "output_type": "stream",
     "text": [
      "<http://example.org/test#phylogeny0> <http://ontology.phyloref.org/phyloref.owl#newick_expression> \"(Parasuchia,(rauisuchians,Aetosauria,(sphenosuchians,(protosuchians,(mesosuchians,(Hylaeochampsa,Aegyptosuchus,Stomatosuchus,(Allodaposuchus,('Gavialis gangeticus',(('Diplocynodon ratelii',('Alligator mississippiensis','Caiman crocodilus')Alligatoridae)Alligatoroidea,('Tomistoma schlegelii',('Osteolaemus tetraspis','Crocodylus niloticus')Crocodylinae)Crocodylidae)Brevirostres)Crocodylia))Eusuchia)Mesoeucrocodylia)Crocodyliformes)Crocodylomorpha))root;\";\n",
      "    <http://purl.obolibrary.org/obo/CDAO_0000148> <http://example.org/test#phylogeny0_node0>;\n",
      "    <http://purl.org/dc/terms/source> _:b0_b180;\n",
      "    a <http://ontology.phyloref.org/phyloref.owl#ReferencePhylogenyEvidence>.\n"
     ]
    }
   ],
   "source": [
    "// We can convert these N-Quads into RDF/Turtle for easier interpretation.\n",
    "// We only convert a few N-Quads as a demonstration.\n",
    "var N3 = require('n3');\n",
    "var { Readable } = require(\"stream\")\n",
    "\n",
    "nQuads.then(nq => {\n",
    "    someNqs = nq.slice(0, 926)\n",
    "\n",
    "    var streamParser = new N3.StreamParser(),\n",
    "    inputStream = Readable.from([someNqs]),\n",
    "    streamWriter = new N3.StreamWriter();\n",
    "\n",
    "    inputStream.pipe(streamParser);\n",
    "    streamParser.pipe(streamWriter);\n",
    "    streamWriter.pipe(process.stdout);\n",
    "});\n",
    "\n",
    "undefined;"
   ]
  },
  {
   "cell_type": "markdown",
   "id": "9566c1fb",
   "metadata": {},
   "source": [
    "## About this notebook\n",
    "\n",
    "This is a [Jupyter Notebook](https://jupyter.org/). We recommend installing [Jupyterlab via Homebrew on Mac](https://formulae.brew.sh/formula/jupyterlab#default), but [other installation options are available](https://jupyter.org/install). Once Jupyter Notebook is set up, you should be able to open this notebook for editing by running `jupyter notebook Introduction\\ to\\ phyx.js.ipynb` from the command line.\n",
    "\n",
    "We use [IJavascript](https://github.com/n-riesco/ijavascript) to use Javascript as a kernel in Jupyter Notebook. If you would like to edit this notebook, you will need to [install this](https://github.com/n-riesco/ijavascript#installation) as well."
   ]
  }
 ],
 "metadata": {
  "kernelspec": {
   "display_name": "Javascript (Node.js)",
   "language": "javascript",
   "name": "javascript"
  },
  "language_info": {
   "file_extension": ".js",
   "mimetype": "application/javascript",
   "name": "javascript",
   "version": "16.0.0"
  }
 },
 "nbformat": 4,
 "nbformat_minor": 5
}
