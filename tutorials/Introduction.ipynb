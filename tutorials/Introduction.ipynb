{
 "cells": [
  {
   "cell_type": "raw",
   "id": "5c7cc1d8",
   "metadata": {},
   "source": [
    "---\n",
    "title: Introduction to phyx.js\n",
    "author: Gaurav Vaidya\n",
    "date: August 24, 2021\n",
    "code-block-font-size: \\footnotesize\n",
    "---"
   ]
  },
  {
   "cell_type": "markdown",
   "id": "fa9ff6c8",
   "metadata": {},
   "source": [
    "# Introduction to phyx.js\n",
    "\n",
    "*Written by Gaurav Vaidya. Last updated August 24, 2021*\n",
    "\n",
    "This tutorial provides an introduction to the phyx.js library, and shows you how it can be used to read a Phyx file, check it for validity, examine [phyloreferences](https://www.phyloref.org/), phylogenies and specifiers, and describe how to convert the file into RDF."
   ]
  },
  {
   "cell_type": "markdown",
   "id": "6deb834b",
   "metadata": {},
   "source": [
    "## Starting with Phyx files\n",
    "\n",
    "Phyx files are digitized clade definitions in a JSON-LD format. While you can use an editor like [Klados](https://github.com/phyloref/klados#readme) to create Phyx files, you can also write one by yourself as a JSON document."
   ]
  },
  {
   "cell_type": "code",
   "execution_count": 1,
   "id": "a7b3606c",
   "metadata": {},
   "outputs": [],
   "source": [
    "var alligatoridae_brochu2003 = {\n",
    "    \"@context\": \"https://www.phyloref.org/phyx.js/context/v1.0.0/phyx.json\",\n",
    "    \n",
    "    // Phylogeny from Brochu 2003: https://doi.org/10.1146/annurev.earth.31.100901.141308\n",
    "    \"phylogenies\": [{\n",
    "        \"newick\": \"(Parasuchia,(rauisuchians,Aetosauria,(sphenosuchians,(protosuchians,(mesosuchians,(Hylaeochampsa,Aegyptosuchus,Stomatosuchus,(Allodaposuchus,('Gavialis gangeticus',(('Diplocynodon ratelii',('Alligator mississippiensis','Caiman crocodilus')Alligatoridae)Alligatoroidea,('Tomistoma schlegelii',('Osteolaemus tetraspis','Crocodylus niloticus')Crocodylinae)Crocodylidae)Brevirostres)Crocodylia))Eusuchia)Mesoeucrocodylia)Crocodyliformes)Crocodylomorpha));\",\n",
    "        \"source\": {\n",
    "            \"type\": \"article\",\n",
    "            \"title\": \"Phylogenetic approaches toward crocodylian history\",\n",
    "            \"authors\": [{\n",
    "                \"firstname\": \"Christopher\",\n",
    "                \"middlename\": \"A.\",\n",
    "                \"lastname\": \"Brochu\"\n",
    "            }],\n",
    "            \"year\": 2003,\n",
    "            \"figure\": \"1\",\n",
    "            \"identifier\": [{\n",
    "                \"type\": \"doi\",\n",
    "                \"id\": \"10.1146/annurev.earth.31.100901.141308\"\n",
    "            }],\n",
    "            \"journal\": {\n",
    "                \"name\": \"Annual Review of Earth and Planetary Sciences\",\n",
    "                \"volume\": \"31\",\n",
    "                \"pages\": \"357--397\",\n",
    "                \"identifier\": [{ \"type\": \"eISSN\", \"id\": \"1545-4495\" }]\n",
    "            }\n",
    "        }\n",
    "    }],\n",
    "    \n",
    "    // Clade definition from Brochu 2003: Alligatoridae\n",
    "    \"phylorefs\": [{\n",
    "          \"label\": \"Alligatoridae\",\n",
    "          \"scientificNameAuthorship\": { \"bibliographicCitation\": \"(Cuvier 1807)\" },\n",
    "          \"phylorefType\": \"phyloref:PhyloreferenceUsingMinimumClade\",\n",
    "          \"definition\": \"Alligatoridae (Cuvier 1807).\\n\\nLast common ancestor of Alligator mississippiensis and Caiman crocodilus and all of its descendents.\",\n",
    "          \"definitionSource\": {\n",
    "              \"bibliographicCitation\": \"Brochu (2003) Phylogenetic approaches toward crocodylian history. Annual Review of Earth and Planetary Sciences 31:1, 357-397. doi: 10.1146/annurev.earth.31.100901.141308\"\n",
    "          },\n",
    "          \"internalSpecifiers\": [\n",
    "              {\n",
    "                  \"@type\": \"http://rs.tdwg.org/ontology/voc/TaxonConcept#TaxonConcept\",\n",
    "                  \"hasName\": {\n",
    "                        \"@type\": \"http://rs.tdwg.org/ontology/voc/TaxonName#TaxonName\",\n",
    "                        \"nomenclaturalCode\": \"http://rs.tdwg.org/ontology/voc/TaxonName#ICZN\",\n",
    "                        \"label\": \"Caiman crocodilus Linnaeus, 1758\",\n",
    "                        \"nameComplete\": \"Caiman crocodilus\",\n",
    "                        \"genusPart\": \"Caiman\",\n",
    "                        \"specificEpithet\": \"crocodilus\"\n",
    "                  }\n",
    "              }, {\n",
    "                  \"@type\": \"http://rs.tdwg.org/ontology/voc/TaxonConcept#TaxonConcept\",\n",
    "                  \"hasName\": {\n",
    "                        \"@type\": \"http://rs.tdwg.org/ontology/voc/TaxonName#TaxonName\",\n",
    "                        \"nomenclaturalCode\": \"http://rs.tdwg.org/ontology/voc/TaxonName#ICZN\",\n",
    "                        \"label\": \"Alligator mississippiensis (Daudin, 1802)\",\n",
    "                        \"nameComplete\": \"Alligator mississippiensis\",\n",
    "                        \"genusPart\": \"Alligator\",\n",
    "                        \"specificEpithet\": \"mississippiensis\"\n",
    "                  }\n",
    "              }\n",
    "        ]\n",
    "    }]\n",
    "}"
   ]
  },
  {
   "cell_type": "markdown",
   "id": "b973bf43",
   "metadata": {},
   "source": [
    "## Validating a Phyx document using JSON Schema\n",
    "\n",
    "We publish a [JSON Schema](https://json-schema.org/) with phyx.js, which can be used to validate that a Phyx document is correctly formed. We use [Ajv](https://ajv.js.org/), a JSON Schema validator for JavaScript. Note that we use the copy of the context file that is included in this repository, but you can also [download it from our website](https://www.phyloref.org/phyx.js/context/v1.0.0/schema.json)."
   ]
  },
  {
   "cell_type": "code",
   "execution_count": 2,
   "id": "7f16e459",
   "metadata": {
    "scrolled": true
   },
   "outputs": [
    {
     "name": "stdout",
     "output_type": "stream",
     "text": [
      "Is alligatoridae_brochu2003 valid? true\n",
      "Errors: none\n",
      "Is alligatoridae_brochu2003copy valid? false\n",
      "Errors: [\n",
      "  {\n",
      "    keyword: 'required',\n",
      "    dataPath: '',\n",
      "    schemaPath: '#/required',\n",
      "    params: { missingProperty: '@context' },\n",
      "    message: \"should have required property '@context'\"\n",
      "  }\n",
      "]\n"
     ]
    }
   ],
   "source": [
    "var fs = require('fs');\n",
    "var Ajv = require('ajv');\n",
    "\n",
    "// Configure Ajv.\n",
    "var ajv = new Ajv({\n",
    "    allErrors: true, // Display all error messages, not just the first.\n",
    "});\n",
    "\n",
    "// We use the JSON Schema included with this repository, but you can download the\n",
    "// Phyx JSON Schema from https://www.phyloref.org/phyx.js/context/v1.0.0/schema.json\n",
    "var validator = ajv.compile(JSON.parse(fs.readFileSync('../docs/context/v1.0.0/schema.json')));\n",
    "\n",
    "// Attempt to validate the Brochu 2003 example file.\n",
    "var result = validator(alligatoridae_brochu2003);\n",
    "console.log(`Is alligatoridae_brochu2003 valid? ${result}`);\n",
    "console.log('Errors:', validator.errors || 'none');\n",
    "\n",
    "// Let's make an invalid copy of the Brochu 2003 example file to make sure this is working.\n",
    "var alligatoridae_brochu2003copy = {...alligatoridae_brochu2003};\n",
    "delete alligatoridae_brochu2003copy['@context'];  // @context is required for successful validation\n",
    "\n",
    "var result = validator(alligatoridae_brochu2003copy);\n",
    "console.log(`Is alligatoridae_brochu2003copy valid? ${result}`);\n",
    "console.log('Errors:', validator.errors);"
   ]
  },
  {
   "cell_type": "markdown",
   "id": "c258a293",
   "metadata": {},
   "source": [
    "## Examining phyloreferences, taxonomic units and taxon concepts\n",
    "\n",
    "The phyx.js library was built in order to simplify the process of working with individual components of Phyx documents, and to facilitate the conversion of a Phyx document into OWL. The library consists of a series of [wrappers](https://www.phyloref.org/phyx.js/identifiers.html#wrappers), each of which wraps part of the document. For example, we can wrap every specifier that is a [taxonomic unit](http://purl.obolibrary.org/obo/CDAO_0000138) using the [TaxonomicUnitWrapper](https://www.phyloref.org/phyx.js/class/src/wrappers/TaxonomicUnitWrapper.js~TaxonomicUnitWrapper.html).\n",
    "\n",
    "This provides a number of convenience methods: for example, `.internalSpecifiers` and `.externalSpecifiers` will always return lists, whether or not these are defined in the underlying phyloreference (if undefined, the methods return empty lists). There is also a `.specifiers` method that lists both internal and external specifiers.\n",
    "\n",
    "Furthermore, taxonomic units that are taxon concepts can be wrapped by a [TaxonConceptWrapper](https://www.phyloref.org/phyx.js/class/src/wrappers/TaxonConceptWrapper.js~TaxonConceptWrapper.html), which have methods for accessing the \"complete name\" (i.e. the monomial, binomial or trinomial name) and the nomenclatural code."
   ]
  },
  {
   "cell_type": "code",
   "execution_count": 3,
   "id": "cce4dd34",
   "metadata": {
    "scrolled": true
   },
   "outputs": [
    {
     "name": "stdout",
     "output_type": "stream",
     "text": [
      "Alligatoridae\n",
      " - Internal: Caiman crocodilus (ICZN)\n",
      " - Internal: Alligator mississippiensis (ICZN)\n",
      "\n"
     ]
    }
   ],
   "source": [
    "// Load the Phyx library.\n",
    "var phyx = require('..');\n",
    "\n",
    "// List all the phyloreferences along with their specifiers.\n",
    "alligatoridae_brochu2003.phylorefs.forEach(phyloref => {\n",
    "    let wrappedPhyloref = new phyx.PhylorefWrapper(phyloref);\n",
    "    \n",
    "    console.log(wrappedPhyloref.label);\n",
    "    \n",
    "    // Extract the \"complete name\" and the nomenclatural code short name for each specifier that is a taxonomic unit.\n",
    "    wrappedPhyloref.internalSpecifiers.forEach(specifier => {\n",
    "        let wrappedSpecifier = new phyx.TaxonomicUnitWrapper(specifier);\n",
    "        if (wrappedSpecifier.taxonConcept) {\n",
    "            let wrappedTaxonConcept = new phyx.TaxonConceptWrapper(wrappedSpecifier.taxonConcept);\n",
    "            console.log(` - Internal: ${wrappedTaxonConcept.nameComplete} (${wrappedTaxonConcept.nomenCodeDetails.shortName})`);\n",
    "        } else {\n",
    "            console.log(` - Internal: ${wrappedSpecifier.label}`);\n",
    "        }\n",
    "    });\n",
    "    \n",
    "    // Note that the phyloref doesn't have an `externalSpecifiers` key, but the wrapper provides it as an empty list\n",
    "    // for ease of use.\n",
    "    wrappedPhyloref.externalSpecifiers.forEach(specifier => {\n",
    "        let wrappedSpecifier = new phyx.TaxonomicUnitWrapper(specifier);\n",
    "        if (wrappedSpecifier.taxonConcept) {\n",
    "            let wrappedTaxonConcept = new phyx.TaxonConceptWrapper(wrappedSpecifier.taxonConcept);\n",
    "            console.log(` - External: ${wrappedTaxonConcept.nameComplete} (${wrappedTaxonConcept.nomenCodeDetails.shortName})`);\n",
    "        } else {\n",
    "            console.log(` - External: ${wrappedSpecifier.label}`);\n",
    "        }\n",
    "    });\n",
    "    \n",
    "    console.log();\n",
    "});"
   ]
  },
  {
   "cell_type": "markdown",
   "id": "8d14026f",
   "metadata": {},
   "source": [
    "### Examining phylogenies\n",
    "\n",
    "Phylogenies are stored in JSON files as Newick strings, but the [PhylogenyWrapper](https://www.phyloref.org/phyx.js/class/src/wrappers/PhylogenyWrapper.js~PhylogenyWrapper.html) can be used to look at internal and terminal node labels and to translate the Newick string into a JSON structure for use by downstream programs."
   ]
  },
  {
   "cell_type": "code",
   "execution_count": 4,
   "id": "5bb754fc",
   "metadata": {},
   "outputs": [
    {
     "name": "stdout",
     "output_type": "stream",
     "text": [
      "The phylogeny is represented by the Newick string: (Parasuchia,(rauisuchians,Aetosauria,(sphenosuchians,(protosuchians,(mesosuchians,(Hylaeochampsa,Aegyptosuchus,Stomatosuchus,(Allodaposuchus,('Gavialis gangeticus',(('Diplocynodon ratelii',('Alligator mississippiensis','Caiman crocodilus')Alligatoridae)Alligatoroidea,('Tomistoma schlegelii',('Osteolaemus tetraspis','Crocodylus niloticus')Crocodylinae)Crocodylidae)Brevirostres)Crocodylia))Eusuchia)Mesoeucrocodylia)Crocodyliformes)Crocodylomorpha));\n",
      "\n",
      "This consists of the following nodes:\n",
      " - Internal nodes: Alligatoridae, Alligatoroidea, Crocodylinae, Crocodylidae, Brevirostres, Crocodylia, Eusuchia, Mesoeucrocodylia, Crocodyliformes, Crocodylomorpha\n",
      " - Terminal nodes: Parasuchia, rauisuchians, Aetosauria, sphenosuchians, protosuchians, mesosuchians, Hylaeochampsa, Aegyptosuchus, Stomatosuchus, Allodaposuchus, Gavialis gangeticus, Diplocynodon ratelii, Alligator mississippiensis, Caiman crocodilus, Tomistoma schlegelii, Osteolaemus tetraspis, Crocodylus niloticus\n",
      "\n",
      "Newick string as a JSON structure: {\n",
      "  \"json\": {\n",
      "    \"children\": [\n",
      "      {\n",
      "        \"children\": [\n",
      "          {\n",
      "            \"label\": \"Crocodylomorpha\",\n",
      "            \"children\": [\n",
      "              {\n",
      "                \"label\": \"Crocodyliformes\",\n",
      "                \"children\": [\n",
      "                  {\n",
      "                    \"label\": \"Mesoeucrocodylia\",\n",
      "                    \"children\": [\n",
      "                      {\n",
      "                        \"label\": \"Eusuchia\",\n",
      "                        \"children\": [\n",
      "                          {\n",
      "                            \"children\": [\n",
      "                              {\n",
      "                                \"label\": \"Crocodylia\",\n",
      "                                \"children\": [\n",
      "                                  {\n",
      "                                    \"label\": \"Brevirostres\",\n",
      "                                    \"children\": [\n",
      "                                      {\n",
      "                                        \"label\": \"Crocodylidae\",\n",
      "                                        \"children\": [\n",
      "                                          {\n",
      "                                            \"label\": \"Crocodylinae\",\n",
      "                                            \"children\": [\n",
      "                                              {\n",
      "                                                \"label\": \"Crocodylus niloticus\",\n",
      "                                                \"name\": \"Crocodylus niloticus\"\n",
      "                                              },\n",
      "                                              {\n",
      "                                                \"label\": \"Osteolaemus tetraspis\",\n",
      "                                                \"name\": \"Osteolaemus tetraspis\"\n",
      "                                              }\n",
      "                                            ],\n",
      "                                            \"name\": \"Crocodylinae\"\n",
      "                                          },\n",
      "                                          {\n",
      "                                            \"label\": \"Tomistoma schlegelii\",\n",
      "                                            \"name\": \"Tomistoma schlegelii\"\n",
      "                                          }\n",
      "                                        ],\n",
      "                                        \"name\": \"Crocodylidae\"\n",
      "                                      },\n",
      "                                      {\n",
      "                                        \"label\": \"Alligatoroidea\",\n",
      "                                        \"children\": [\n",
      "                                          {\n",
      "                                            \"label\": \"Alligatoridae\",\n",
      "                                            \"children\": [\n",
      "                                              {\n",
      "                                                \"label\": \"Caiman crocodilus\",\n",
      "                                                \"name\": \"Caiman crocodilus\"\n",
      "                                              },\n",
      "                                              {\n",
      "                                                \"label\": \"Alligator mississippiensis\",\n",
      "                                                \"name\": \"Alligator mississippiensis\"\n",
      "                                              }\n",
      "                                            ],\n",
      "                                            \"name\": \"Alligatoridae\"\n",
      "                                          },\n",
      "                                          {\n",
      "                                            \"label\": \"Diplocynodon ratelii\",\n",
      "                                            \"name\": \"Diplocynodon ratelii\"\n",
      "                                          }\n",
      "                                        ],\n",
      "                                        \"name\": \"Alligatoroidea\"\n",
      "                                      }\n",
      "                                    ],\n",
      "                                    \"name\": \"Brevirostres\"\n",
      "                                  },\n",
      "                                  {\n",
      "                                    \"label\": \"Gavialis gangeticus\",\n",
      "                                    \"name\": \"Gavialis gangeticus\"\n",
      "                                  }\n",
      "                                ],\n",
      "                                \"name\": \"Crocodylia\"\n",
      "                              },\n",
      "                              {\n",
      "                                \"label\": \"Allodaposuchus\",\n",
      "                                \"name\": \"Allodaposuchus\"\n",
      "                              }\n",
      "                            ]\n",
      "                          },\n",
      "                          {\n",
      "                            \"label\": \"Stomatosuchus\",\n",
      "                            \"name\": \"Stomatosuchus\"\n",
      "                          },\n",
      "                          {\n",
      "                            \"label\": \"Aegyptosuchus\",\n",
      "                            \"name\": \"Aegyptosuchus\"\n",
      "                          },\n",
      "                          {\n",
      "                            \"label\": \"Hylaeochampsa\",\n",
      "                            \"name\": \"Hylaeochampsa\"\n",
      "                          }\n",
      "                        ],\n",
      "                        \"name\": \"Eusuchia\"\n",
      "                      },\n",
      "                      {\n",
      "                        \"label\": \"mesosuchians\",\n",
      "                        \"name\": \"mesosuchians\"\n",
      "                      }\n",
      "                    ],\n",
      "                    \"name\": \"Mesoeucrocodylia\"\n",
      "                  },\n",
      "                  {\n",
      "                    \"label\": \"protosuchians\",\n",
      "                    \"name\": \"protosuchians\"\n",
      "                  }\n",
      "                ],\n",
      "                \"name\": \"Crocodyliformes\"\n",
      "              },\n",
      "              {\n",
      "                \"label\": \"sphenosuchians\",\n",
      "                \"name\": \"sphenosuchians\"\n",
      "              }\n",
      "            ],\n",
      "            \"name\": \"Crocodylomorpha\"\n",
      "          },\n",
      "          {\n",
      "            \"label\": \"Aetosauria\",\n",
      "            \"name\": \"Aetosauria\"\n",
      "          },\n",
      "          {\n",
      "            \"label\": \"rauisuchians\",\n",
      "            \"name\": \"rauisuchians\"\n",
      "          }\n",
      "        ]\n",
      "      },\n",
      "      {\n",
      "        \"label\": \"Parasuchia\",\n",
      "        \"name\": \"Parasuchia\"\n",
      "      }\n",
      "    ]\n",
      "  }\n",
      "}\n",
      "\n"
     ]
    }
   ],
   "source": [
    "var phylogeny = alligatoridae_brochu2003.phylogenies[0];\n",
    "console.log(`The phylogeny is represented by the Newick string: ${phylogeny.newick}`);\n",
    "console.log();\n",
    "\n",
    "// Display internal and external nodes.\n",
    "var wrappedPhylogeny = new phyx.PhylogenyWrapper(phylogeny);\n",
    "console.log(`This consists of the following nodes:\\n - Internal nodes: ${wrappedPhylogeny.getNodeLabels('internal').join(', ')}`);\n",
    "console.log(` - Terminal nodes: ${wrappedPhylogeny.getNodeLabels('terminal').join(', ')}`);\n",
    "console.log();\n",
    "\n",
    "// Convert the Newick string into a JSON structure for examination.\n",
    "console.log(`Newick string as a JSON structure: ${JSON.stringify(phyx.PhylogenyWrapper.getParsedNewick(phylogeny.newick), undefined, 2)}`);\n",
    "console.log();"
   ]
  },
  {
   "cell_type": "markdown",
   "id": "b953dbdb",
   "metadata": {},
   "source": [
    "### Accessing citations\n",
    "\n",
    "Another example of a wrapper that can be used for wrapping a part of a Phyx file is the [CitationWrapper](https://www.phyloref.org/phyx.js/class/src/wrappers/CitationWrapper.js~CitationWrapper.html). This can be used to wrap citations anywhere in the Phyx file to provide a full bibliographic citation for the citation."
   ]
  },
  {
   "cell_type": "code",
   "execution_count": 5,
   "id": "138d2268",
   "metadata": {},
   "outputs": [
    {
     "name": "stdout",
     "output_type": "stream",
     "text": [
      "The source of the phylogeny in this Phyx document is: Christopher A. Brochu (2003) Phylogenetic approaches toward crocodylian history Annual Review of Earth and Planetary Sciences 31:357--397  fig 1 doi: 10.1146/annurev.earth.31.100901.141308\n",
      "The definition source of the phyloreference in this Phyx document is: Brochu (2003) Phylogenetic approaches toward crocodylian history. Annual Review of Earth and Planetary Sciences 31:1, 357-397. doi: 10.1146/annurev.earth.31.100901.141308\n"
     ]
    }
   ],
   "source": [
    "var wrappedPhylogenyCitation = new phyx.CitationWrapper(alligatoridae_brochu2003.phylogenies[0].source);\n",
    "console.log(`The source of the phylogeny in this Phyx document is: ${wrappedPhylogenyCitation.toString()}`);\n",
    "\n",
    "var wrappedPhylorefCitation = new phyx.CitationWrapper(alligatoridae_brochu2003.phylorefs[0].definitionSource);\n",
    "console.log(`The definition source of the phyloreference in this Phyx document is: ${wrappedPhylorefCitation.toString()}`);"
   ]
  },
  {
   "cell_type": "markdown",
   "id": "de6011f5",
   "metadata": {},
   "source": [
    "### Converting a Phyx document into OWL"
   ]
  },
  {
   "cell_type": "markdown",
   "id": "8c68eb61",
   "metadata": {},
   "source": [
    "A Phyx document (which is in JSON-LD format) can be converted into OWL/RDF in the form of [N-Quads](https://www.w3.org/TR/n-quads/) by using the `PhyxWrapper` to wrap the entire Phyx document. A base URL can be specified."
   ]
  },
  {
   "cell_type": "code",
   "execution_count": 6,
   "id": "a3e4ac92",
   "metadata": {},
   "outputs": [
    {
     "name": "stdout",
     "output_type": "stream",
     "text": [
      "<http://example.org/phyx-tutorial#phylogeny0> <http://ontology.phyloref.org/phyloref.owl#newick_expression> \"(Parasuchia,(rauisuchians,Aetosauria,(sphenosuchians,(protosuchians,(mesosuchians,(Hylaeochampsa,Aegyptosuchus,Stomatosuchus,(Allodaposuchus,('Gavialis gangeticus',(('Diplocynodon ratelii',('Alligator mississippiensis','Caiman crocodilus')Alligatoridae)Alligatoroidea,('Tomistoma schlegelii',('Osteolaemus tetraspis','Crocodylus niloticus')Crocodylinae)Crocodylidae)Brevirostres)Crocodylia))Eusuchia)Mesoeucrocodylia)Crocodyliformes)Crocodylomorpha));\" .\n",
      "<http://example.org/phyx-tutorial#phylogeny0> <http://purl.obolibrary.org/obo/CDAO_0000148> <http://example.org/phyx-tutorial#phylogeny0_node0> .\n",
      "<http://example.org/phyx-tutorial#phylogeny0> <http://purl.org/dc/terms/source> _:b165 .\n",
      "<http://example.org/phyx-tutorial#phylogeny0> <http://www.w3.org/1999/02/22-rdf-syntax-ns#type> <http://ontology.phyloref.org/phyloref.owl#ReferencePhylogenyEvidence> .\n",
      "<http://example.org/phyx-tutorial#phylogeny0> <http://www.w3.org/2000/01/rdf-schema#isDefinedBy> _:b0 .\n",
      "<http://example.org/phyx-tutorial#phylogeny0_node0> <http://purl.obolibrary.org/obo/CDAO_0000149> <http://example.org/phyx-tutorial#phylogeny0_node1> .\n",
      "<http://example.org/phyx-tutorial#phylogeny0_node0> <http://purl.obolibrary.org/obo/CDAO_0000149> <http://example.org/phyx-tutorial#phylogeny0_node29> .\n",
      "<http://example.org/phyx-tutorial#phylogeny0_node0> <http://purl.obolibrary.org/obo/CDAO_0000200> <http://example.org/phyx-tutorial#phylogeny0> .\n",
      "<http://example.org/phyx-tutorial#phylogeny0_node0> <http://www.w3.org/1999/02/22-rdf-syntax-ns#type> <http://purl.obolibrary.org/obo/CDAO_0000140> .\n",
      "<http://example.org/phyx-tutorial#phylogeny0_node10> <http://ontology.phyloref.org/phyloref.owl#has_Sibling> <http://example.org/phyx-tutorial#phylogeny0_node13> .\n",
      "<http://example.org/phyx-tutorial#phylogeny0_node10> <http://purl.obolibrary.org/obo/CDAO_0000149> <http://example.org/phyx-tutorial#phylogeny0_node11> .\n",
      "<http://example.org/phyx-tutorial#phylogeny0_node10> <http://purl.obolibrary.org/obo/CDAO_0000149> <http://example.org/phyx-tutorial#phylogeny0_node12> .\n",
      "<http://example.org/phyx-tutorial#phylogeny0_node10> <http://purl.obolibrary.org/obo/CDAO_0000179> <http://example.org/phyx-tutorial#phylogeny0_node9> .\n",
      "<http://example.org/phyx-tutorial#phylogeny0_node10> <http://purl.obolibrary.org/obo/CDAO_0000187> _:b50 .\n",
      "<http://example.org/phyx-tutorial#phylogeny0_node10> <http://purl.obolibrary.org/obo/CDAO_00002...\n"
     ]
    }
   ],
   "source": [
    "nQuads = new phyx.PhyxWrapper(alligatoridae_brochu2003).toRDF('http://example.org/phyx-tutorial#');\n",
    "nQuads.then(nq => console.log(nq.slice(0, 2500) + '...'));"
   ]
  },
  {
   "cell_type": "code",
   "execution_count": 7,
   "id": "14b3675a",
   "metadata": {},
   "outputs": [],
   "source": [
    "// We can convert these N-Quads into RDF/Turtle for easier interpretation.\n",
    "// We only convert a few N-Quads as a demonstration.\n",
    "var N3 = require('n3');\n",
    "var { Readable } = require(\"stream\")\n",
    "\n",
    "nQuads.then(nq => {\n",
    "    someNqs = nq.slice(0, 1071)\n",
    "\n",
    "    var streamParser = new N3.StreamParser(),\n",
    "    inputStream = Readable.from([someNqs]),\n",
    "    streamWriter = new N3.StreamWriter();\n",
    "\n",
    "    inputStream.pipe(streamParser);\n",
    "    streamParser.pipe(streamWriter);\n",
    "    streamWriter.pipe(process.stdout);\n",
    "});\n",
    "\n",
    "undefined;"
   ]
  },
  {
   "cell_type": "markdown",
   "id": "4d9133f4",
   "metadata": {},
   "source": [
    "## Navigating a Phyx document as a JSON file"
   ]
  },
  {
   "cell_type": "markdown",
   "id": "833a8c3d",
   "metadata": {},
   "source": [
    "Most phyx.js wrappers have been designed to help interpret the more complex parts of a Phyx file, such as the phyloreferences, specifiers, phylogenies, citations and the entire Phyx document. However, since every Phyx document is also a JSON document, much of the information in the Phyx document can be accessed sufficiently easily using standard JSON libraries. In some cases, as in the demonstration below, this requires more complex code than would be necessary by using the phyx.js wrappers."
   ]
  },
  {
   "cell_type": "code",
   "execution_count": 8,
   "id": "7c4be8d2",
   "metadata": {
    "scrolled": true
   },
   "outputs": [
    {
     "name": "stdout",
     "output_type": "stream",
     "text": [
      "<http://example.org/phyx-tutorial#phylogeny0> <http://ontology.phyloref.org/phyloref.owl#newick_expression> \"(Parasuchia,(rauisuchians,Aetosauria,(sphenosuchians,(protosuchians,(mesosuchians,(Hylaeochampsa,Aegyptosuchus,Stomatosuchus,(Allodaposuchus,('Gavialis gangeticus',(('Diplocynodon ratelii',('Alligator mississippiensis','Caiman crocodilus')Alligatoridae)Alligatoroidea,('Tomistoma schlegelii',('Osteolaemus tetraspis','Crocodylus niloticus')Crocodylinae)Crocodylidae)Brevirostres)Crocodylia))Eusuchia)Mesoeucrocodylia)Crocodyliformes)Crocodylomorpha));\";\n",
      "    <http://purl.obolibrary.org/obo/CDAO_0000148> <http://example.org/phyx-tutorial#phylogeny0_node0>;\n",
      "    <http://purl.org/dc/terms/source> _:b0_b165;\n",
      "    a <http://ontology.phyloref.org/phyloref.owl#ReferencePhylogenyEvidence>;\n",
      "    <http://www.w3.org/2000/01/rdf-schema#isDefinedBy> _:b0_b0.\n",
      "- Phyloref 1. Alligatoridae:\n",
      "  - Internal specifier: Caiman crocodilus\n",
      "  - Internal specifier: Alligator mississippiensis\n",
      "\n"
     ]
    }
   ],
   "source": [
    "// List all the phylorefs in a Phyx document.\n",
    "alligatoridae_brochu2003copy.phylorefs.forEach((phyloref, index) => {\n",
    "    console.log(`- Phyloref ${index + 1}. ${phyloref.label}:`);\n",
    "    (phyloref.internalSpecifiers || []).forEach(specifier => {\n",
    "        console.log(`  - Internal specifier: ${(specifier.hasName || {}).nameComplete}`);\n",
    "    });\n",
    "    (phyloref.externalSpecifiers || []).forEach(specifier => {\n",
    "        console.log(`  - External specifier: ${(specifier.hasName || {}).nameComplete}`);\n",
    "    });\n",
    "    console.log();\n",
    "});"
   ]
  },
  {
   "cell_type": "markdown",
   "id": "9566c1fb",
   "metadata": {},
   "source": [
    "## About this notebook\n",
    "\n",
    "This document was created as a [Jupyter Notebook](https://jupyter.org/), and the source file is available in our GitHub repository. We recommend installing [Jupyterlab via Homebrew on Mac](https://formulae.brew.sh/formula/jupyterlab#default), but [other installation options are available](https://jupyter.org/install). Once Jupyter Notebook is set up, you should be able to open this notebook for editing by running `jupyter notebook Introduction\\ to\\ phyx.js.ipynb` from the command line.\n",
    "\n",
    "We use [IJavascript](https://github.com/n-riesco/ijavascript) to use Javascript as a kernel in Jupyter Notebook. If you would like to edit this notebook, you will need to [install this](https://github.com/n-riesco/ijavascript#installation) as well."
   ]
  }
 ],
 "metadata": {
  "authors": [
   {
    "name": "Gaurav Vaidya"
   }
  ],
  "kernelspec": {
   "display_name": "Javascript (Node.js)",
   "language": "javascript",
   "name": "javascript"
  },
  "language_info": {
   "file_extension": ".js",
   "mimetype": "application/javascript",
   "name": "javascript",
   "version": "16.7.0"
  },
  "title": "Introduction to phyx.js"
 },
 "nbformat": 4,
 "nbformat_minor": 5
}
